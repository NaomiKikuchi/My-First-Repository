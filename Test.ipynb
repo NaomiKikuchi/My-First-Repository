{
 "cells": [
  {
   "cell_type": "code",
   "execution_count": 1,
   "id": "4db46de1",
   "metadata": {
    "ExecuteTime": {
     "end_time": "2022-03-06T14:20:01.654081Z",
     "start_time": "2022-03-06T14:20:01.651056Z"
    }
   },
   "outputs": [],
   "source": [
    "hi = \"Hello World\""
   ]
  },
  {
   "cell_type": "code",
   "execution_count": 2,
   "id": "8e6896ae",
   "metadata": {
    "ExecuteTime": {
     "end_time": "2022-03-06T14:23:50.563223Z",
     "start_time": "2022-03-06T14:23:50.537294Z"
    }
   },
   "outputs": [
    {
     "data": {
      "text/plain": [
       "'Hello World'"
      ]
     },
     "execution_count": 2,
     "metadata": {},
     "output_type": "execute_result"
    }
   ],
   "source": [
    "hi"
   ]
  },
  {
   "cell_type": "code",
   "execution_count": null,
   "id": "cc6a0a17",
   "metadata": {},
   "outputs": [],
   "source": []
  }
 ],
 "metadata": {
  "kernelspec": {
   "display_name": "Python 3 (ipykernel)",
   "language": "python",
   "name": "python3"
  },
  "language_info": {
   "codemirror_mode": {
    "name": "ipython",
    "version": 3
   },
   "file_extension": ".py",
   "mimetype": "text/x-python",
   "name": "python",
   "nbconvert_exporter": "python",
   "pygments_lexer": "ipython3",
   "version": "3.9.7"
  }
 },
 "nbformat": 4,
 "nbformat_minor": 5
}
